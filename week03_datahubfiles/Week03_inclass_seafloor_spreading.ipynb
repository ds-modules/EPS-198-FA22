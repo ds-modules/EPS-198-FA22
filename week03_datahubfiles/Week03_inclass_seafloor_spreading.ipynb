{
 "cells": [
  {
   "cell_type": "markdown",
   "metadata": {},
   "source": [
    "# Seafloor Spreading Bathymetry and Magnetic Anomalies\n",
    "\n",
    "**Last week we:**\n",
    "- Loaded and visualized an earthquake catalog.\n",
    "- Plotted earthquake magnitude and depth.\n",
    "- Learned some more complicated mapping techinque. \n",
    "\n",
    "**Our goals for today:**\n",
    "- Practice pandas DataFrames, indexing, and data cleaning.\n",
    "- Load marine geophysical data (bathymetry and marine magnetic anomalies) from two oceanic ridges.\n",
    "- Select data and drop rows with gaps.\n",
    "- Plot bathymetry data and evaluate spreading rate.\n",
    "- Declare a function to detrend magnetic anomaly data.\n",
    "- Plot marine magnetic anomaly data and compare spreading rates.\n"
   ]
  },
  {
   "cell_type": "markdown",
   "metadata": {},
   "source": [
    "## Setup\n",
    "\n",
    "Run this cell as it is to setup your environment."
   ]
  },
  {
   "cell_type": "code",
   "execution_count": null,
   "metadata": {},
   "outputs": [],
   "source": [
    "import numpy as np\n",
    "import matplotlib.pyplot as plt\n",
    "import pandas as pd\n",
    "from cartopy import config\n",
    "import cartopy.crs as ccrs\n",
    "from scipy import signal\n",
    "import scipy as sc"
   ]
  },
  {
   "cell_type": "markdown",
   "metadata": {},
   "source": [
    "## Marine Geology, Bathymetry and Magnetic Anomalies"
   ]
  },
  {
   "cell_type": "markdown",
   "metadata": {},
   "source": [
    "We'll look at marine magnetics and bathymetry data from two surveys, from the Mid-Atlantic Ridge and East Pacific Rise.\n",
    "\n",
    "This video gives a very nice overview of the concepts of continental drift, sea floor spreading and the magnetic striping anomalies that we will examine in this notebook: https://youtu.be/JJEZ3Vizdww\n",
    "\n",
    "First we'll load the Atlantic data (that can be accessed here: https://www.ncei.noaa.gov/maps/geophysics), and then we'll need to clean them up."
   ]
  },
  {
   "cell_type": "code",
   "execution_count": null,
   "metadata": {},
   "outputs": [],
   "source": [
    "# Load the seafloor depth, marine mag anom data\n",
    "#columns ['SURVEY_ID','TIMEZONE','DATE','TIME','LAT','LON','POS_TYPE','NAV_QUALCO','BAT_TTIME','CORR_DEPTH','BAT_CPCO','BAT_TYPCO','BAT_QUALCO','MAG_TOT','MAG_TOT2','MAG_RES','MAG_RESSEN','MAG_DICORR','MAG_SDEPTH','MAG_QUALCO','GRA_OBS','EOTVOS','FREEAIR','GRA_QUALCO','LINEID','POINTID']\n",
    "\n",
    "vanc05mv_data_file = pd.read_table('./data_tracks/vanc05mv.m77t')\n",
    "atlantic_data = vanc05mv_data_file.drop(columns=['SURVEY_ID','TIMEZONE','DATE','TIME','POS_TYPE','NAV_QUALCO',\n",
    "                                                 'BAT_TTIME','BAT_CPCO','BAT_TYPCO','BAT_QUALCO','MAG_TOT2','MAG_RES',\n",
    "                                                 'MAG_RESSEN','MAG_DICORR','MAG_SDEPTH','MAG_QUALCO','GRA_OBS','EOTVOS',\n",
    "                                                 'FREEAIR','GRA_QUALCO','LINEID','POINTID'])\n",
    "#Compare original and trimmed dataframes using .head()\n"
   ]
  },
  {
   "cell_type": "code",
   "execution_count": null,
   "metadata": {},
   "outputs": [],
   "source": [
    "#Use .describe() to examine the data"
   ]
  },
  {
   "cell_type": "markdown",
   "metadata": {},
   "source": [
    "Notice that some entries do not have either depth, magnetization  or both and instead in those fields `'NaN'` (not a number) is specified. We'll use `~np.isnan` to select rows were we have depth AND magnetic field measurements. The function np.isnan() identifies NaN entries returning cases that have NaNs. note that in the following the complement (~) is used in the logial expression, leaving only rows that have BOTH CORR_DEPTH and MAG_TOT specified.\n"
   ]
  },
  {
   "cell_type": "code",
   "execution_count": null,
   "metadata": {},
   "outputs": [],
   "source": [
    "#discuss the structure of the boolean logical test\n",
    "atlantic_data_clean = atlantic_data[~np.isnan(atlantic_data['CORR_DEPTH']) &  ~np.isnan(atlantic_data['MAG_TOT'])];\n",
    "#atlantic_data_clean.head()"
   ]
  },
  {
   "cell_type": "code",
   "execution_count": null,
   "metadata": {},
   "outputs": [],
   "source": [
    "#atlantic_data_clean.describe()"
   ]
  },
  {
   "cell_type": "markdown",
   "metadata": {},
   "source": [
    "Let's take a look at our data!\n",
    "\n",
    "<font color=goldenrod>**_Code for you to write_**</font>\n",
    "\n",
    "**Plot atlantic_data on a map and make it have a linewidth of 2 and a color of orange**\n",
    "\n",
    "**Plot atlantic_data_clean on the same map and make it have a linewidth of 4 and a color of red**"
   ]
  },
  {
   "cell_type": "code",
   "execution_count": null,
   "metadata": {},
   "outputs": [],
   "source": [
    "plt.figure(1,(15,15))\n",
    "ax = plt.axes(projection=ccrs.Robinson())\n",
    "ax.set_global()\n",
    "\n",
    "#ax.plot(ADD_CODE_HERE, transform=ccrs.PlateCarree())\n",
    "#ax.plot(ADD_CODE_HERE,transform=ccrs.PlateCarree())\n",
    "ax.coastlines()\n",
    "ax.stock_img()\n",
    "ax.gridlines()\n",
    "\n",
    "plt.show()"
   ]
  },
  {
   "cell_type": "markdown",
   "metadata": {},
   "source": [
    "Next we want to plot the clean data in profile"
   ]
  },
  {
   "cell_type": "code",
   "execution_count": null,
   "metadata": {},
   "outputs": [],
   "source": [
    "plt.figure(1,(15,10))\n",
    "ax1=plt.subplot(2, 1, 1)\n",
    "#ax1.plot(..., ..., color='mediumblue');\n",
    "ax1.set_ylabel('Bathymetry, m');\n",
    "ax1.set_title('Mid-Atlantic Ridge')\n",
    "\n",
    "ax2=plt.subplot(2, 1, 2)\n",
    "#ax2.plot(..., ..., color='mediumblue');\n",
    "ax2.set_xlabel('Longitude, degrees');\n",
    "ax2.set_ylabel('Total magnetic field, nT');"
   ]
  },
  {
   "cell_type": "markdown",
   "metadata": {},
   "source": [
    "Let's just analyze the portion of the survey from around the ridge, so from longitudes -24.0 to 0.0 degrees. So use Boolean indexing to pull out rows of `atlantic_data_clean` where `atlantic_data_clean['LON']` is between those values.\n",
    "\n",
    "<font color=goldenrod>**_Code for you to write_**</font>"
   ]
  },
  {
   "cell_type": "code",
   "execution_count": null,
   "metadata": {},
   "outputs": [],
   "source": [
    "#atlantic_data_cropped = atlantic_data_clean[...]"
   ]
  },
  {
   "cell_type": "markdown",
   "metadata": {},
   "source": [
    "Here's a map of where our survey line was collected with a grid of seafloor bathymetry in the background."
   ]
  },
  {
   "cell_type": "markdown",
   "metadata": {},
   "source": [
    "<img src=\"Figures/MAR_track_map.png\" width=900>"
   ]
  },
  {
   "cell_type": "code",
   "execution_count": null,
   "metadata": {},
   "outputs": [],
   "source": [
    "plt.figure(1,(15,10))\n",
    "ax1=plt.subplot(2, 1, 1)\n",
    "ax1.plot(atlantic_data_cropped['LON'],-1*atlantic_data_cropped['CORR_DEPTH'],color='mediumblue');\n",
    "ax1.set_ylabel('Bathymetry, m');\n",
    "ax1.set_title('Mid-Atlantic Ridge')\n",
    "\n",
    "ax2=plt.subplot(2, 1, 2)\n",
    "ax2.plot(atlantic_data_cropped['LON'],atlantic_data_cropped['MAG_TOT'],color='mediumblue');\n",
    "ax2.set_xlabel('Longitude, degrees');\n",
    "ax2.set_ylabel('Total magnetic field, nT');"
   ]
  },
  {
   "cell_type": "markdown",
   "metadata": {},
   "source": [
    "We need to convert the position of the lat,lon magnetic track into a distance magnetic track referenced to the position of the spreading center. The position of the spreading center is assigned a distance of zero.  Since the data is already presented as a track we can simply find the distance of lat,lon points along the track relative to the ridge position. To start we create numpy arrays of lat, lon, bathymetry and magnetic intensity. We then use the haversine function defined in the next cell to compute the distance between two points on a sphere."
   ]
  },
  {
   "cell_type": "code",
   "execution_count": null,
   "metadata": {},
   "outputs": [],
   "source": [
    "#We need a function to calculate distance between two points on a sphere. \n",
    "#Functions (or subroutines) are a good way to compartmentalize code for repeated operations\n",
    "#DO NOT EDIT THIS CELL BUT DO READ THROUGH IT TO UNDERSTAND CONSTRUCTION\n",
    "def haversine_np(lon1, lat1, lon2, lat2):\n",
    "    \"\"\"\n",
    "    A FUNCTION SHOULD HAVE A COMMENT BLOCK THAT STATES INPUT PARAMETERS AND UNITS AND OUTPUT PARAMETERS AND UNITS\n",
    "    AS WELL AS DESCRIBE WHAT IT DOES\n",
    "    \n",
    "    Calculate the great circle distance between two points\n",
    "    on the earth (specified in decimal degrees)\n",
    "\n",
    "    All args must be of equal length. i.e. floating point number, or arrays of numbers of equal length\n",
    "    \n",
    "    latitude and longitude arguments are input as decimal degrees\n",
    "    \n",
    "    output is distance in km\n",
    "    \"\"\"\n",
    "    lon1, lat1, lon2, lat2 = map(np.radians, [lon1, lat1, lon2, lat2])\n",
    "\n",
    "    dlon = lon2 - lon1\n",
    "    dlat = lat2 - lat1\n",
    "\n",
    "    a = np.sin(dlat/2.0)**2 + np.cos(lat1) * np.cos(lat2) * np.sin(dlon/2.0)**2\n",
    "\n",
    "    c = 2 * np.arcsin(np.sqrt(a))\n",
    "    \n",
    "    signfac=-dlon/np.abs(dlon)  #note the minus is because the difference of smaller number is positive\n",
    "    km = 6371 * c * signfac\n",
    "    return km"
   ]
  },
  {
   "cell_type": "code",
   "execution_count": null,
   "metadata": {},
   "outputs": [],
   "source": [
    "#Specify the position of the ridge\n",
    "ridgelon=np.float(-10.07)\n",
    "tmp=np.array(atlantic_data_cropped['LAT'][np.abs(atlantic_data_cropped['LON'] - ridgelon) < 0.01])\n",
    "ridgelat=tmp[0]\n",
    "\n",
    "#Convert data to numpy arrays\n",
    "atl_lat=np.array(atlantic_data_cropped['LAT'])\n",
    "atl_lon=np.array(atlantic_data_cropped['LON'])\n",
    "atl_bath=np.array(atlantic_data_cropped['CORR_DEPTH'])\n",
    "atl_mag=np.array(atlantic_data_cropped['MAG_TOT'])\n",
    "\n",
    "#create lat2, lon2 arrays of the ridge position. We do this to take advantage of the speed of vector arithmatic in python.\n",
    "lat2=np.ones(len(atl_lat))*ridgelat\n",
    "lon2=np.ones(len(atl_lat))*ridgelon\n",
    "atl_dist=haversine_np(atl_lon,atl_lat,lon2,lat2)"
   ]
  },
  {
   "cell_type": "code",
   "execution_count": null,
   "metadata": {},
   "outputs": [],
   "source": [
    "#Plot the bathymetry and magnetic field data\n",
    "plt.figure(1,(15,10))\n",
    "ax1=plt.subplot(2, 1, 1)\n",
    "ax1.plot(atl_dist,-1*atl_bath,color='mediumblue');\n",
    "ax1.grid()\n",
    "ax1.set_title('Mid Atlantic Ridge')\n",
    "ax1.set_ylabel('Bathymentry, m');\n",
    "\n",
    "ax2=plt.subplot(2, 1, 2)\n",
    "ax2.plot(atl_dist,atl_mag,color='mediumblue');\n",
    "ax2.set_xlabel('Distance to Ridge, km');\n",
    "ax2.set_ylabel('Total magnetic field, nT');\n",
    "plt.show()"
   ]
  },
  {
   "cell_type": "markdown",
   "metadata": {},
   "source": [
    "### Next lets load a data set for the East Pacific rise to compare with"
   ]
  },
  {
   "cell_type": "code",
   "execution_count": null,
   "metadata": {},
   "outputs": [],
   "source": [
    "# Load the seafloor depth, marine mag anom data\n",
    "# Source: https://maps.ngdc.noaa.gov/viewers/geophysics/\n",
    "#names=['SURVEY_ID','TIMEZONE','DATE','TIME','LAT','LON','POS_TYPE','NAV_QUALCO','BAT_TTIME','CORR_DEPTH','BAT_CPCO','BAT_TYPCO','BAT_QUALCO','MAG_TOT','MAG_TOT2','MAG_RES','MAG_RESSEN','MAG_DICORR','MAG_SDEPTH','MAG_QUALCO','GRA_OBS','EOTVOS','FREEAIR','GRA_QUALCO','LINEID','POINTID'])\n",
    "\n",
    "nbp9707_data_file=pd.read_table('data_tracks/nbp9707.m77t')\n",
    "pacific_data = nbp9707_data_file.drop(columns=['SURVEY_ID','TIMEZONE','DATE','TIME','POS_TYPE','NAV_QUALCO','BAT_TTIME','BAT_CPCO','BAT_TYPCO','BAT_QUALCO','MAG_TOT2','MAG_RES','MAG_RESSEN','MAG_DICORR','MAG_SDEPTH','MAG_QUALCO','GRA_OBS','EOTVOS','FREEAIR','GRA_QUALCO','LINEID','POINTID'])\n",
    "\n",
    "pacific_data_clean = pacific_data[~np.isnan(pacific_data['CORR_DEPTH']) &  ~np.isnan(pacific_data['MAG_TOT'])]; #use ~np.isnan to clear out rows were there are nans\n",
    "pacific_data_cropped = pacific_data_clean[(pacific_data_clean['LON']>-126.0) & (pacific_data_clean['LON']<-95.0)] # use Boolean indexing to select rows with Longitude -126 deg to -95 deg"
   ]
  },
  {
   "cell_type": "markdown",
   "metadata": {},
   "source": [
    "Here's a map of where our survey line was collected with a grid of seafloor bathymetry in the background."
   ]
  },
  {
   "cell_type": "markdown",
   "metadata": {},
   "source": [
    "<img src=\"Figures/EPR_track_map.png\" width=900>"
   ]
  },
  {
   "cell_type": "code",
   "execution_count": null,
   "metadata": {
    "scrolled": true
   },
   "outputs": [],
   "source": [
    "plt.figure(1,(15,10))\n",
    "ax1=plt.subplot(2, 1, 1)\n",
    "#ax1.plot(pacific_data_cropped['LON'],-1*pacific_data_cropped['CORR_DEPTH'],color='blue')\n",
    "ax1.set_ylabel('Bathymetry, m')\n",
    "ax1.set_title('East Pacific Rise')\n",
    "\n",
    "ax2=plt.subplot(2, 1, 2)\n",
    "#ax2.plot(pacific_data_cropped['LON'],pacific_data_cropped['MAG_TOT'],color='blue')\n",
    "ax2.set_xlabel('Longitude, degrees')\n",
    "ax2.set_ylabel('Total magnetic field, nT')\n",
    "plt.show()"
   ]
  },
  {
   "cell_type": "code",
   "execution_count": null,
   "metadata": {},
   "outputs": [],
   "source": [
    "#Specify the position of the ridge\n",
    "ridgelon=np.float(-113.521)\n",
    "tmp=np.array(pacific_data_cropped['LAT'][np.abs(pacific_data_cropped['LON'] - ridgelon) < 0.01])\n",
    "ridgelat=tmp[0]\n",
    "\n",
    "#Convert data to numpy arrays\n",
    "pac_lat=np.array(pacific_data_cropped['LAT'])\n",
    "pac_lon=np.array(pacific_data_cropped['LON'])\n",
    "pac_bath=np.array(pacific_data_cropped['CORR_DEPTH'])\n",
    "pac_mag=np.array(pacific_data_cropped['MAG_TOT'])\n",
    "\n",
    "#create lat2, lon2 arrays of the ridge position. We do this to take advantage of the speed of vector arithmatic in python.\n",
    "lat2=np.ones(len(pac_lat))*ridgelat\n",
    "lon2=np.ones(len(pac_lat))*ridgelon\n",
    "pac_dist=haversine_np(pac_lon,pac_lat,lon2,lat2)\n",
    "\n",
    "plt.figure(1,(15,10))\n",
    "ax1=plt.subplot(2, 1, 1)\n",
    "ax1.plot(pac_dist,-1*pac_bath,color='mediumblue');\n",
    "ax1.set_title('South Pacific Ridge')\n",
    "ax1.set_ylabel('Bathymentry, m');\n",
    "ax1.grid()\n",
    "\n",
    "ax2=plt.subplot(2, 1, 2)\n",
    "ax2.plot(pac_dist,pac_mag,color='mediumblue');\n",
    "ax2.set_xlabel('Distance to Ridge, km');\n",
    "ax2.set_ylabel('Total magnetic field, nT');"
   ]
  },
  {
   "cell_type": "markdown",
   "metadata": {},
   "source": [
    "### Bathymetry\n",
    "\n",
    "Now let's compare the two ridges' bathymetry. \n",
    "\n",
    "Let's plot them together on one figure as subplots. Use $\\pm 1000$ km as the x-axis limits and -5000 to -1500 meters as the y-axis limits for both ridges. Syntax set_xlim(xxx, xxx)\n",
    "\n",
    "<font color=goldenrod>**_Code for you to write_**</font>"
   ]
  },
  {
   "cell_type": "code",
   "execution_count": null,
   "metadata": {},
   "outputs": [],
   "source": [
    "plt.figure(1,(15,10))\n",
    "ax1 = plt.subplot(2,1,1)\n",
    "#add code here\n",
    "ax1.set_xlabel('Distance to Ridge, km') # labels!\n",
    "ax1.set_ylabel('Bathymetry, m')\n",
    "ax1.set_title('East Pacific Rise')\n",
    "ax1.grid()\n",
    "\n",
    "ax2 = plt.subplot(2,1,2)\n",
    "#add code here\n",
    "ax2.set_xlabel('Distance to Ridge, km')\n",
    "ax2.set_ylabel('Bathymetry, m')\n",
    "ax2.set_title('Mid Atlantic Ridge')\n",
    "ax2.grid()\n",
    "\n",
    "#plt.tight_layout()"
   ]
  },
  {
   "cell_type": "markdown",
   "metadata": {},
   "source": [
    "<img src=\"Figures/spreading_ridges.png\" width=900>\n",
    "> Source: Essentials of Geology (13th Edition) Lutgens, Tarbuck, and Tasa."
   ]
  },
  {
   "cell_type": "markdown",
   "metadata": {},
   "source": [
    "**Discussion Questions:** What do you observe in the bathymetry? Do these ridges have a rift valley at the center? Is the slope steep or gentle? Is the bathymetry rough or smooth?"
   ]
  },
  {
   "cell_type": "markdown",
   "metadata": {},
   "source": [
    "**Write your answer here.**"
   ]
  },
  {
   "cell_type": "markdown",
   "metadata": {},
   "source": [
    "Based on the ridge bathymetry, which spreading center do you think is spreading faster the Atlantic or Pacific?"
   ]
  },
  {
   "cell_type": "markdown",
   "metadata": {},
   "source": [
    "**Write your answer here.**"
   ]
  },
  {
   "cell_type": "markdown",
   "metadata": {},
   "source": [
    "### Crustal Magnetic Field\n",
    "\n",
    "Now let's compare their marine magnetic field data.\n",
    "\n",
    "Make a plot of the magnetic field from each ridge (['MAG_TOT']). Follow the code above for the bathymetry. Be sure to include axis labels.\n",
    "\n",
    "```\n",
    "ax2.set_xlabel('Distance to Ridge, km');\n",
    "ax2.set_ylabel('Total Field, nT');\n",
    "ax2.set_title('Mid Atlantic Ridge');\n",
    "```\n",
    "\n",
    "<font color=goldenrod>**_Code for you to write_**</font>"
   ]
  },
  {
   "cell_type": "code",
   "execution_count": null,
   "metadata": {},
   "outputs": [],
   "source": [
    "#Make plots comparing Atlantic and Pacific Magnetic Anomalies here"
   ]
  },
  {
   "cell_type": "markdown",
   "metadata": {},
   "source": [
    "### Write code to remove polynomial fit and plot the East Pacific and Atlantic Magnetic Anomalies"
   ]
  },
  {
   "cell_type": "markdown",
   "metadata": {},
   "source": [
    "There are long wavelength drifts in the magnetic data due to noise, and diurnal (daily) variation. The diurnal varation arises due to daily fluctuations in the ionosphere. Another type of drift that occurs over years and decades is secular drift and and is due to actual changes in the generated field within the earth.\n",
    "\n",
    "We want to remove these trends or drifts. Inspection of the data reveals linear, or perhaps higher order polynomial trends. This is a two step process where first we fit a model to the data, and then we remove the predictions of the model to reveal anomalies. We will use the numpy polyfit() to determine model coefficients (a, b, etc). Then we will use numpy poly1d() to estimate the model for each independent variable to construct an array of model values to remove from the data. Let's write a function to do that.\n",
    "\n",
    "$Y=a + bX + cX^2 + dX^3 + etc.$\n",
    "\n",
    "Plot the marine magnetic anomalies together as subplots again with reference lines at zero nT, and zoom in the `xlim` to $\\pm$100 km and add a grid with xticks every 10 km using `ax1.set_xticks(np.arange(-100,100,10))`.\n",
    "\n",
    "<font color=goldenrod>**_Code for you to write_**</font>"
   ]
  },
  {
   "cell_type": "code",
   "execution_count": null,
   "metadata": {},
   "outputs": [],
   "source": [
    "def data_detrend(dist_values, mag_values, poly_order):\n",
    "    \"\"\"\n",
    "    function to fit a polynomial to data, and then remove the fitted polynomial leaving the residual or anomaly\n",
    "    dist_values are in km\n",
    "    mag_values in nT\n",
    "    poly_order integers 0 (mean), 1 (line), 2 (parabola), 3, etc.\n",
    "    \n",
    "    model is an array of modeled data, and anomaly is an array corrected data\n",
    "    \n",
    "    usage:\n",
    "    array1, array2, value=data_detrend(dist_values, mag_values, poly_order)\n",
    "    \"\"\"\n",
    "    a=np.polyfit(dist_values,mag_values,poly_order)   #This finds the coefficients for polynomial of specified order\n",
    "    b=np.poly1d(a)                                    #This finds a function from which to determine model values\n",
    "    model=b(dist_values)                              #model array\n",
    "    anomaly=mag_values - model                        #anomaly array of data corrected by the model\n",
    "    \n",
    "    #RMS error\n",
    "    rms=np.sqrt(np.mean(anomaly**2))\n",
    "    \n",
    "    return model, anomaly, rms"
   ]
  },
  {
   "cell_type": "markdown",
   "metadata": {},
   "source": [
    "We want to compare the original data with the polynomial fit. We then want to test different values of the fit to find the best, and then remove the polynomial trend from the data.\n",
    "\n",
    "First, lets plot the data together with the polynomial fit\n",
    "\n",
    "<font color=goldenrod>**_Code for you to write_**</font>"
   ]
  },
  {
   "cell_type": "code",
   "execution_count": null,
   "metadata": {},
   "outputs": [],
   "source": [
    "#Plot the model fit and find the simplest model that provides a good fit.\n",
    "\n"
   ]
  },
  {
   "cell_type": "markdown",
   "metadata": {},
   "source": [
    "Now plot the corrected data with the polynomial trend removed. Include a zero reference line: `plot([x1, x2],[y1, y2],color='black')`\n",
    "\n",
    "Consider distance ranges of -100 to 100 and -200 to 200. Consider putting in xticks every 10 km `ax1.set_xticks(np.arange(-200,200,10))`\n",
    "\n",
    "<font color=goldenrod>**_Code for you to write_**</font>"
   ]
  },
  {
   "cell_type": "code",
   "execution_count": null,
   "metadata": {},
   "outputs": [],
   "source": [
    "#Plot the anomally Note you may or may not use different polynomial order for the two different data sets.\n",
    "\n"
   ]
  },
  {
   "cell_type": "markdown",
   "metadata": {},
   "source": [
    "<img src=\"Figures/marine_mag_anom.png\" width=900>\n",
    "> Source: Fundamentals of Geophysics (2nd Edition) Lowrie, W."
   ]
  },
  {
   "cell_type": "markdown",
   "metadata": {},
   "source": [
    "Which wiggles can you match between lines and to the model profile due to the GPTS above? Can you pick the Bruhnes, Matuyama, Gauss, and Gilbet polarity chrons? What distance from the ridge does the Bruhnes-Matuyama reversal (which tells us an age of 776 kyr) occur at for both ridges? Zoom in on your plots and write down the distance to the ridge."
   ]
  },
  {
   "cell_type": "markdown",
   "metadata": {},
   "source": [
    "**Write your answer here.**"
   ]
  },
  {
   "cell_type": "code",
   "execution_count": null,
   "metadata": {},
   "outputs": [],
   "source": [
    "\n"
   ]
  },
  {
   "cell_type": "markdown",
   "metadata": {},
   "source": [
    "Define a function that you can use to calculate the spreading rate in km/Myr using the distance from the ridge of the Bruhnes-Matuyama reversal. The function should take the distance to the reversal as input and return a spreading rate. An important piece of information is that the reversal occurred 776,000 years ago (Singer et al. 2019). Make sure that the function has a docstring and that the docstring indicates what units the calculated rate is in.\n",
    "\n",
    "You can find helpful information about functions here (part of your weekly reading): https://www.inferentialthinking.com/chapters/08/Functions_and_Tables.html\n",
    "\n",
    "<font color=goldenrod>**_Code for you to write_**</font>"
   ]
  },
  {
   "cell_type": "code",
   "execution_count": null,
   "metadata": {},
   "outputs": [],
   "source": [
    "def spread_rate(dist,age):\n",
    "    \"\"\"\n",
    "    Function to compute the spreading rate\n",
    "    \n",
    "    parameters\n",
    "    ----------\n",
    "    dist: distance to the ridge in km\n",
    "    age: age of the reversal in Myr\n",
    "    \n",
    "    output\n",
    "    ------\n",
    "    rate: spreading rate in km/Myr\n",
    "    \"\"\"\n",
    "    # write your code here\n",
    "    \n",
    "    return "
   ]
  },
  {
   "cell_type": "markdown",
   "metadata": {},
   "source": [
    "Use your function to compute the spreading rate of the atlantic and pacific ridges. Print the results."
   ]
  },
  {
   "cell_type": "code",
   "execution_count": null,
   "metadata": {},
   "outputs": [],
   "source": []
  },
  {
   "cell_type": "markdown",
   "metadata": {},
   "source": [
    "Based on the marine magnetic anomalies, which spreading center do you think is spreading faster the Atlantic or Pacific? Is that consistent with your estimate from the bathymetry?"
   ]
  },
  {
   "cell_type": "markdown",
   "metadata": {},
   "source": [
    "**Write your answer here.**"
   ]
  },
  {
   "cell_type": "code",
   "execution_count": null,
   "metadata": {},
   "outputs": [],
   "source": []
  },
  {
   "cell_type": "markdown",
   "metadata": {},
   "source": [
    "### Turn in this notebook\n",
    "\n",
    "Save your completed notebook as a pdf and upload to bcourses."
   ]
  },
  {
   "cell_type": "code",
   "execution_count": null,
   "metadata": {},
   "outputs": [],
   "source": []
  }
 ],
 "metadata": {
  "kernelspec": {
   "display_name": "Python 3 (ipykernel)",
   "language": "python",
   "name": "python3"
  },
  "language_info": {
   "codemirror_mode": {
    "name": "ipython",
    "version": 3
   },
   "file_extension": ".py",
   "mimetype": "text/x-python",
   "name": "python",
   "nbconvert_exporter": "python",
   "pygments_lexer": "ipython3",
   "version": "3.9.7"
  }
 },
 "nbformat": 4,
 "nbformat_minor": 4
}
