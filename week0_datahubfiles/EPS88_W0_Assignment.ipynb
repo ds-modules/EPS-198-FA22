{
 "cells": [
  {
   "cell_type": "markdown",
   "metadata": {
    "slideshow": {
     "slide_type": "slide"
    }
   },
   "source": [
    "# Map projections and making your birthquake map [25 points]\n",
    "\n",
    "Read Chapter 1.3 of the course web-book on map projections.\n",
    "\n",
    "https://maggieavery.github.io/PyEarth_EPS88_jupyterbook/intro.html"
   ]
  },
  {
   "cell_type": "markdown",
   "metadata": {},
   "source": [
    "### First make a copy of this notebook and rename it to W0_Assignment_FirstName_LastName\n",
    "\n",
    "- From 'File' choose 'Save as' using the naming convention above.\n"
   ]
  },
  {
   "cell_type": "markdown",
   "metadata": {},
   "source": [
    "## Let's make your first map! [5 points]\n",
    "\n",
    "We are going to use ```cartopy``` in conjunction with ```matplotlib``` to make maps. ```cartopy``` can transform points, lines and images into different map projections. ```matplotlib``` provides tools to visualize these projections. We will import them using the standard conventions. **You must press run (or more efficiently shift+enter) on the cell that imports these function libraries for the rest of the code to work.**"
   ]
  },
  {
   "cell_type": "code",
   "execution_count": null,
   "metadata": {},
   "outputs": [],
   "source": [
    "import cartopy.crs as ccrs\n",
    "import matplotlib.pyplot as plt\n",
    "import pandas as pd"
   ]
  },
  {
   "cell_type": "markdown",
   "metadata": {},
   "source": [
    "The syntax of using these functions takes some getting used to. Here we will make a figure, create an axis object with a defined projection, and then plot coastlines and a stock image that shows elevation."
   ]
  },
  {
   "cell_type": "code",
   "execution_count": null,
   "metadata": {},
   "outputs": [],
   "source": [
    "plt.figure(figsize=(10,5))\n",
    "ax = plt.axes(projection=ccrs.Mollweide())\n",
    "ax.stock_img()\n",
    "plt.show()"
   ]
  },
  {
   "cell_type": "markdown",
   "metadata": {},
   "source": [
    "Let's plot the location of Berkeley on a map. First we want to assign the latitude (37.8715) and longitude (-122.2730) of Berkeley to variables:"
   ]
  },
  {
   "cell_type": "code",
   "execution_count": null,
   "metadata": {},
   "outputs": [],
   "source": [
    "Berkeley_latitude  = ...\n",
    "Berkeley_longitude = ..."
   ]
  },
  {
   "cell_type": "markdown",
   "metadata": {},
   "source": [
    "Now we can use the ```plt.scatter``` function to plot the location of Berkeley. ```scatter``` is just one of many plotting routines available in ```matplotlib```, the plotting library we imported above. You can learn about this function as well as others by typing ```matplotlib scatter``` into a searchh engine. We give the ```plt.scatter``` function ```Berkeley_longitude``` as the x-value, ```Berkeley_latitude``` as the y-value while also telling it to transform it into map coordinates (```transform=ccrs.PlateCarree()```) and to make the point red (```color='red'```). We can save the figure using ```plt.savefig()``` putting the name of the file with the extension within the ``()``. In this case, let's call it ```'Mollweide_projection_w_Berkeley.png'```"
   ]
  },
  {
   "cell_type": "code",
   "execution_count": null,
   "metadata": {},
   "outputs": [],
   "source": [
    "plt.figure(figsize=(10,5))\n",
    "ax = plt.axes(projection=ccrs.Mollweide())\n",
    "ax.stock_img()\n",
    "plt.scatter(..., ...  ,transform=ccrs.PlateCarree(), color='red')\n",
    "plt.savefig('Mollweide_projection_w_Berkeley.png')"
   ]
  },
  {
   "cell_type": "markdown",
   "metadata": {},
   "source": [
    "Review the plot and confirm that the plotted point is correct geographically."
   ]
  },
  {
   "cell_type": "markdown",
   "metadata": {},
   "source": [
    "Revisit your notebook from in class when you found your birthquake and enter the latitude of longitude in the cell below assigning them to ```birthquake_latitude``` and ```birthquake_longitude```."
   ]
  },
  {
   "cell_type": "code",
   "execution_count": null,
   "metadata": {},
   "outputs": [],
   "source": [
    "birthquake_latitude  = ...\n",
    "birthquake_longitude = ..."
   ]
  },
  {
   "cell_type": "markdown",
   "metadata": {},
   "source": [
    "Now you can use the cell below to make a map that plots both Berkeley and your birthquake location as well as the shortest line between them. "
   ]
  },
  {
   "cell_type": "code",
   "execution_count": null,
   "metadata": {},
   "outputs": [],
   "source": [
    "plt.figure(figsize=(10,5))\n",
    "ax = plt.axes(projection=ccrs.Robinson())\n",
    "ax.stock_img()\n",
    "plt.scatter([Berkeley_longitude, birthquake_longitude], [Berkeley_latitude, birthquake_latitude], transform=ccrs.PlateCarree(), color='red')\n",
    "plt.plot([...], [...], transform=ccrs.Geodetic(), color='red')\n",
    "plt.show()"
   ]
  },
  {
   "cell_type": "markdown",
   "metadata": {},
   "source": [
    "## Test different map projections [5 points]\n"
   ]
  },
  {
   "cell_type": "code",
   "execution_count": null,
   "metadata": {},
   "outputs": [],
   "source": [
    "plt.figure(figsize=(10,5))\n",
    "ax = plt.axes(projection=ccrs.Mercator())\n",
    "\n",
    "ax.stock_img()\n",
    "ax.gridlines()\n",
    "\n",
    "# add equal area circles to see how they are distorted by the projection\n",
    "ax.tissot(facecolor='orange', alpha=0.4) #alpha set the transparency\n",
    "\n",
    "plt.show()"
   ]
  },
  {
   "cell_type": "markdown",
   "metadata": {},
   "source": [
    "### In the cell below write code to examine different map projections. A list of possible `cartopy` projections is [here](https://scitools.org.uk/cartopy/docs/v0.15/crs/projections.html)."
   ]
  },
  {
   "cell_type": "code",
   "execution_count": null,
   "metadata": {},
   "outputs": [],
   "source": []
  },
  {
   "cell_type": "markdown",
   "metadata": {},
   "source": [
    "### Briefly describe in the cell below the advantages and disadvantages of the Mercator, Mollweide, and Robinson projections."
   ]
  },
  {
   "cell_type": "markdown",
   "metadata": {},
   "source": []
  },
  {
   "cell_type": "markdown",
   "metadata": {},
   "source": [
    "## Make a map of 5 largest birthdate earthquakes [10 points]\n",
    "\n",
    "Use the code cells below to make another map where you plot the locations of the 5 largest magnitude earthquakes that occured on the day you were born (use any projection you like). When you have made this map, save it as a .png file and submit your notebook to Ok. Choose any projection you want (https://scitools.org.uk/cartopy/docs/v0.15/crs/projections.html). You can see that the example above use Robinson and Mollweide. Note depending on the seismicity of the day you may have less than 5 events."
   ]
  },
  {
   "cell_type": "code",
   "execution_count": null,
   "metadata": {},
   "outputs": [],
   "source": [
    "Codys_birthday = '1976-05-25'\n",
    "day_after_Codys_birthday = '1976-05-26'\n",
    "standard_url = 'https://earthquake.usgs.gov/fdsnws/event/1/query?format=csv&orderby=magnitude'\n",
    "Codys_birthquake_url = standard_url + '&starttime=' + Codys_birthday + '&endtime=' + day_after_Codys_birthday\n",
    "Codys_birthday_earthquakes = pd.read_csv(Codys_birthquake_url)\n",
    "eq_longitudes = Codys_birthday_earthquakes[:5]['longitude']\n",
    "eq_latitudes = Codys_birthday_earthquakes[:5]['latitude']"
   ]
  },
  {
   "cell_type": "code",
   "execution_count": null,
   "metadata": {},
   "outputs": [],
   "source": [
    "plt.figure(figsize=(10,5))\n",
    "ax = plt.axes(projection=ccrs.Mollweide(central_longitude=145))\n",
    "ax.stock_img()\n",
    "plt.scatter(eq_longitudes, eq_latitudes, transform=ccrs.PlateCarree(), color='red')\n",
    "plt.savefig('Top5_birthquakes.png')"
   ]
  },
  {
   "cell_type": "markdown",
   "metadata": {},
   "source": [
    "### Turn in this notebook\n",
    "\n",
    "- From the **'File'** pull-down menu choose **'Save and Export Notebook as'** and **PDF**.\n",
    "- Upload your PDF file to bcourses for credit.\n"
   ]
  },
  {
   "cell_type": "code",
   "execution_count": null,
   "metadata": {},
   "outputs": [],
   "source": []
  }
 ],
 "metadata": {
  "kernelspec": {
   "display_name": "Python 3 (ipykernel)",
   "language": "python",
   "name": "python3"
  },
  "language_info": {
   "codemirror_mode": {
    "name": "ipython",
    "version": 3
   },
   "file_extension": ".py",
   "mimetype": "text/x-python",
   "name": "python",
   "nbconvert_exporter": "python",
   "pygments_lexer": "ipython3",
   "version": "3.9.7"
  },
  "livereveal": {
   "auto_select": "none",
   "autolaunch": "true",
   "footer": " ",
   "header": "<script src='/files/static/theme/reveal.js'></script>",
   "start_slideshow_at": "selected"
  }
 },
 "nbformat": 4,
 "nbformat_minor": 4
}
