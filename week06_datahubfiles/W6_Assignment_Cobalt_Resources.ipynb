{
 "cells": [
  {
   "cell_type": "markdown",
   "metadata": {
    "tags": [
     "include"
    ]
   },
   "source": [
    "<!-- BEGIN QUESTION -->\n",
    "# Where is the cobalt?\n",
    "\n",
    "\n",
    "To electrify more of the electric grid and transportation, more metals are being mined. Batteries are driving a particular demand for cobalt as lithium-ion batteries utilize a chemical reaction between lithium and cobalt oxide. There are major problems with the current cobolt supply particularly with there being small-scale mines that are unregulated with regard to safety, child labor and environmental impact. \n",
    "\n",
    "There is a start-up in Berkeley (with significant venture capital funding) called Kobold that is focused on using basic ore-deposit science, big data, and scientific computing to discover and develop deposits related to battery materials. https://www.koboldmetals.com\n",
    "\n",
    "Watch this video to learn more:"
   ]
  },
  {
   "cell_type": "code",
   "execution_count": null,
   "metadata": {
    "tags": [
     "include"
    ]
   },
   "outputs": [],
   "source": [
    "from IPython.display import YouTubeVideo\n",
    "# Inside the murky business of cobalt mining in DR Congo\n",
    "YouTubeVideo('ll7aUgeK3-o', width=\"1000\", height=\"500\")"
   ]
  },
  {
   "cell_type": "markdown",
   "metadata": {
    "tags": [
     "include"
    ]
   },
   "source": [
    "## Your task in this assignment is to track down what types of igneous rocks have the most cobalt (Co) by completing the following assessments:\n",
    "\n",
    "1) Compare the distributions of cobalt in the COMPOSITION categories of 'FELSIC', 'INTERMEDIATE', 'MAFIC', 'ULTRAMAFIC' using both probability density estimates and box-plots. For the box plot, I recommend using `sns.boxenplot` and setting the ylim so it is zoomed in on the boxes. **Answer this question, if you were going to target one of these compositions for mineral exploration, which one would you target?**\n",
    "\n",
    "2) The lowest grade of ore that is mined for cobalt is 0.01%. **How many data points have concentrations of cobalt that might be this high (recall that the data are in ppm)?**\n",
    "\n",
    "\n",
    "3) Let's say you **needed** to make a choice whether to explore in mafic intrusive (plutonic) rocks or mafic volcanics rocks. The coarser-grained plutonic rocks that crystallized underground have the 'PLUTONIC' label in the 'TYPE' column while the volcanic rocks have the 'VOLCANIC' label. **Use the A/B test framework and determine whether both the mean and the median are statistically distinct from that which would result from random permutations. Would you explore plutonic or volcanic mafic rocks?**"
   ]
  },
  {
   "cell_type": "code",
   "execution_count": 1,
   "metadata": {
    "tags": [
     "include"
    ]
   },
   "outputs": [
    {
     "ename": "ModuleNotFoundError",
     "evalue": "No module named 'otter'",
     "output_type": "error",
     "traceback": [
      "\u001b[0;31m---------------------------------------------------------------------------\u001b[0m",
      "\u001b[0;31mModuleNotFoundError\u001b[0m                       Traceback (most recent call last)",
      "Input \u001b[0;32mIn [1]\u001b[0m, in \u001b[0;36m<cell line: 6>\u001b[0;34m()\u001b[0m\n\u001b[1;32m      4\u001b[0m \u001b[38;5;28;01mimport\u001b[39;00m \u001b[38;5;21;01mmatplotlib\u001b[39;00m\u001b[38;5;21;01m.\u001b[39;00m\u001b[38;5;21;01mpyplot\u001b[39;00m \u001b[38;5;28;01mas\u001b[39;00m \u001b[38;5;21;01mplt\u001b[39;00m\n\u001b[1;32m      5\u001b[0m \u001b[38;5;28;01mimport\u001b[39;00m \u001b[38;5;21;01mseaborn\u001b[39;00m \u001b[38;5;28;01mas\u001b[39;00m \u001b[38;5;21;01msns\u001b[39;00m\n\u001b[0;32m----> 6\u001b[0m \u001b[38;5;28;01mimport\u001b[39;00m \u001b[38;5;21;01motter\u001b[39;00m\n",
      "\u001b[0;31mModuleNotFoundError\u001b[0m: No module named 'otter'"
     ]
    }
   ],
   "source": [
    "# Import more libraries as needed\n",
    "import pandas as pd\n",
    "import numpy as np\n",
    "import matplotlib.pyplot as plt\n",
    "import seaborn as sns\n",
    "import otter"
   ]
  },
  {
   "cell_type": "code",
   "execution_count": null,
   "metadata": {
    "tags": [
     "include"
    ]
   },
   "outputs": [],
   "source": [
    "#import all the data\n",
    "igneous_data = pd.read_csv('./data/ign.csv',sep='\\t')\n",
    "#drop data points that don't have Co (ppm) values\n",
    "igneous_data_Co = igneous_data.dropna(subset=['CO'])"
   ]
  },
  {
   "cell_type": "code",
   "execution_count": null,
   "metadata": {
    "tags": [
     "include"
    ]
   },
   "outputs": [],
   "source": []
  },
  {
   "cell_type": "code",
   "execution_count": null,
   "metadata": {
    "tags": [
     "include"
    ]
   },
   "outputs": [],
   "source": []
  },
  {
   "cell_type": "code",
   "execution_count": null,
   "metadata": {
    "tags": [
     "include"
    ]
   },
   "outputs": [],
   "source": []
  },
  {
   "cell_type": "code",
   "execution_count": null,
   "metadata": {
    "tags": [
     "include"
    ]
   },
   "outputs": [],
   "source": []
  },
  {
   "cell_type": "code",
   "execution_count": null,
   "metadata": {
    "tags": [
     "include"
    ]
   },
   "outputs": [],
   "source": []
  },
  {
   "cell_type": "code",
   "execution_count": null,
   "metadata": {
    "tags": [
     "include"
    ]
   },
   "outputs": [],
   "source": []
  },
  {
   "cell_type": "code",
   "execution_count": null,
   "metadata": {
    "tags": [
     "include"
    ]
   },
   "outputs": [],
   "source": []
  },
  {
   "cell_type": "code",
   "execution_count": null,
   "metadata": {
    "tags": [
     "include"
    ]
   },
   "outputs": [],
   "source": []
  },
  {
   "cell_type": "code",
   "execution_count": null,
   "metadata": {
    "tags": [
     "include"
    ]
   },
   "outputs": [],
   "source": []
  },
  {
   "cell_type": "code",
   "execution_count": null,
   "metadata": {
    "tags": [
     "include"
    ]
   },
   "outputs": [],
   "source": []
  },
  {
   "cell_type": "markdown",
   "metadata": {
    "tags": [
     "include"
    ]
   },
   "source": []
  },
  {
   "cell_type": "markdown",
   "metadata": {
    "tags": [
     "include"
    ]
   },
   "source": [
    "**Describe the results of your test in a paragraph that demonstrates that you understand what the test is and what the results (including calculated p-values) mean.** It will be helpful to read this Inferential Thinking chapter: https://www.inferentialthinking.com/chapters/12/Comparing_Two_Samples.html\n",
    "\n",
    "More info on cobalt can be found here for the curious:\n",
    "\n",
    "https://pubs.usgs.gov/of/2017/1155/ofr20171155.pdf"
   ]
  },
  {
   "cell_type": "markdown",
   "metadata": {
    "tags": [
     "include"
    ]
   },
   "source": [
    "### Turn in the Notebook\n",
    "\n",
    "**Run the cell below to export this notebook as a pdf and upload to bCourses. Make sure to run and save all the cells for changes to be reflected. **\n",
    "<!-- END QUESTION -->"
   ]
  },
  {
   "cell_type": "markdown",
   "metadata": {
    "tags": [
     "include"
    ]
   },
   "source": []
  },
  {
   "cell_type": "code",
   "execution_count": null,
   "metadata": {
    "tags": [
     "include"
    ]
   },
   "outputs": [],
   "source": [
    "grader = otter.Notebook()\n",
    "from otter.export import export_notebook\n",
    "from IPython.display import display, HTML\n",
    "export_notebook(\"W6_Assignment_Cobalt_Resources.ipynb\", filtering=True, pagebreaks=False)\n",
    "display(HTML(\"<p style='font-size:20px'> <br>Save this notebook, then click <a href='W6_Assignment_Cobalt_Resources.pdf' download>here</a> to open the pdf.<br></p>\"))"
   ]
  }
 ],
 "metadata": {
  "celltoolbar": "Edit Metadata",
  "kernelspec": {
   "display_name": "Python 3 (ipykernel)",
   "language": "python",
   "name": "python3"
  },
  "language_info": {
   "codemirror_mode": {
    "name": "ipython",
    "version": 3
   },
   "file_extension": ".py",
   "mimetype": "text/x-python",
   "name": "python",
   "nbconvert_exporter": "python",
   "pygments_lexer": "ipython3",
   "version": "3.9.12"
  }
 },
 "nbformat": 4,
 "nbformat_minor": 4
}
