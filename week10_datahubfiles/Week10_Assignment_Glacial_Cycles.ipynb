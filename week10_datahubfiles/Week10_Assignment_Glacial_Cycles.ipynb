{
 "cells": [
  {
   "cell_type": "markdown",
   "metadata": {
    "tags": [
     "include"
    ]
   },
   "source": [
    " <!-- BEGIN QUESTION -->\n",
    "# Glacial Cycle Assignment (25 points total)\n",
    "\n",
    "Your assignment is to conduct spectral analysis on different portions of the Lisecki and Raymo (2005) benthic oxygen isotope ($\\delta ^{18}$O) data from the past 5.32 million years to determine the period of glacial-interglacial cycles. Choose at least **4 different intervals, each >500,000 years long** to look at. A good place to start will be to look at data from the past 800,000 years and compare it to data from the 800,000 to 1,600,000 year (remember 1000 years ago is 1 ka and 1000 ka is a million years)."
   ]
  },
  {
   "cell_type": "markdown",
   "metadata": {
    "tags": [
     "include"
    ]
   },
   "source": [
    "## Spectral Analysis\n",
    "\n",
    "Go ahead and filter the data between for these different times, plot the data and power spectra to determine what frequencies have signficant spectral power. **(12 points)**"
   ]
  },
  {
   "cell_type": "code",
   "execution_count": null,
   "metadata": {
    "tags": [
     "include"
    ]
   },
   "outputs": [],
   "source": []
  },
  {
   "cell_type": "code",
   "execution_count": null,
   "metadata": {
    "tags": [
     "include"
    ]
   },
   "outputs": [],
   "source": []
  },
  {
   "cell_type": "code",
   "execution_count": null,
   "metadata": {
    "tags": [
     "include"
    ]
   },
   "outputs": [],
   "source": []
  },
  {
   "cell_type": "code",
   "execution_count": null,
   "metadata": {
    "tags": [
     "include"
    ]
   },
   "outputs": [],
   "source": []
  },
  {
   "cell_type": "markdown",
   "metadata": {
    "tags": [
     "include"
    ]
   },
   "source": [
    "## Interpretation\n",
    "\n",
    "After you have done your analysis, you will find that there are different periods for the more ancient glacial-interglacial cycles than the more recent ones. \n",
    "\n",
    "When did this transition happen? **(3 points)**"
   ]
  },
  {
   "cell_type": "markdown",
   "metadata": {
    "tags": [
     "include"
    ]
   },
   "source": [
    "*write answer here*"
   ]
  },
  {
   "cell_type": "markdown",
   "metadata": {
    "tags": [
     "include"
    ]
   },
   "source": [
    "What is the period of the more recent glacial-interglacial cycles? What orbital forcing might it correspond to? **(2 points)**"
   ]
  },
  {
   "cell_type": "markdown",
   "metadata": {
    "tags": [
     "include"
    ]
   },
   "source": [
    "*write answer here*"
   ]
  },
  {
   "cell_type": "markdown",
   "metadata": {
    "tags": [
     "include"
    ]
   },
   "source": [
    "What is the period of the more ancient glacial-interglacial cycles? What orbital forcing might it correspond to? **(2 points)**"
   ]
  },
  {
   "cell_type": "markdown",
   "metadata": {
    "tags": [
     "include"
    ]
   },
   "source": [
    "*write answer here*"
   ]
  },
  {
   "cell_type": "markdown",
   "metadata": {
    "tags": [
     "include"
    ]
   },
   "source": [
    "This change in glacial-interglacial cycle period is often called the mid-Pleistocene transition. Using Google Scholar, find a paper that presents a hypothesis for what caused the transition. **Provide a citiation to this reference** here and write a paragraph summarizing the hypothesis. **(6 points)**"
   ]
  },
  {
   "cell_type": "markdown",
   "metadata": {
    "tags": [
     "include"
    ]
   },
   "source": [
    "*write answer here*"
   ]
  },
  {
   "cell_type": "markdown",
   "metadata": {
    "tags": [
     "include"
    ]
   },
   "source": [
    "### Turn in this Notebook\n",
    "\n",
    "**Run the cell below to export this notebook as a pdf and upload to bCourses. Make sure to run all cells and save before doing so for changes to be reflected in the pdf.**\n",
    " <!-- END QUESTION -->"
   ]
  },
  {
   "cell_type": "code",
   "execution_count": null,
   "metadata": {
    "tags": [
     "include"
    ]
   },
   "outputs": [],
   "source": [
    "grader = otter.Notebook()\n",
    "from otter.export import export_notebook\n",
    "from IPython.display import display, HTML\n",
    "export_notebook(\"Week10_Assignment_Glacial_Cycles.ipynb\", filtering=True, pagebreaks=False)\n",
    "display(HTML(\"<p style='font-size:20px'> <br>Save this notebook, then click <a href='Week10_Assignment_Glacial_Cycles.pdf' download>here</a> to open the pdf.<br></p>\"))"
   ]
  }
 ],
 "metadata": {
  "celltoolbar": "Edit Metadata",
  "kernelspec": {
   "display_name": "Python 3 (ipykernel)",
   "language": "python",
   "name": "python3"
  },
  "language_info": {
   "codemirror_mode": {
    "name": "ipython",
    "version": 3
   },
   "file_extension": ".py",
   "mimetype": "text/x-python",
   "name": "python",
   "nbconvert_exporter": "python",
   "pygments_lexer": "ipython3",
   "version": "3.9.12"
  }
 },
 "nbformat": 4,
 "nbformat_minor": 4
}
